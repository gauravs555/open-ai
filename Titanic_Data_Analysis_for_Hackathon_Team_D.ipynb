{
  "nbformat": 4,
  "nbformat_minor": 0,
  "metadata": {
    "colab": {
      "provenance": []
    },
    "kernelspec": {
      "name": "python3",
      "display_name": "Python 3"
    },
    "language_info": {
      "name": "python"
    }
  },
  "cells": [
    {
      "cell_type": "code",
      "execution_count": 161,
      "metadata": {
        "colab": {
          "base_uri": "https://localhost:8080/"
        },
        "id": "XfFOBKXTWM93",
        "outputId": "e0a80993-2bb9-420a-c28f-f909f664d4e6"
      },
      "outputs": [
        {
          "output_type": "execute_result",
          "data": {
            "text/plain": [
              "Survived    891\n",
              "Pclass      891\n",
              "Sex         891\n",
              "Age         714\n",
              "Fare        891\n",
              "dtype: int64"
            ]
          },
          "metadata": {},
          "execution_count": 161
        }
      ],
      "source": [
        "##################################Problem statement ##################################\n",
        "# We want to predict survial changes of a given set of passangers out of Titanic data based on Age, Sex, Fare, Passanger Class.\n",
        "# This is a classification problem we plan to solve.\n",
        "\n",
        "# Import the Titanic Data\n",
        "import numpy as np\n",
        "import pandas as pd\n",
        "import seaborn as sns\n",
        "from sklearn.preprocessing import LabelEncoder\n",
        "from sklearn.model_selection import train_test_split\n",
        "from sklearn.linear_model import LogisticRegression\n",
        "from sklearn.metrics import accuracy_score, f1_score, precision_score, recall_score\n",
        "from sklearn.tree import DecisionTreeClassifier\n",
        "from sklearn.neighbors import KNeighborsClassifier\n",
        "from sklearn.ensemble import RandomForestClassifier\n",
        "from sklearn.linear_model import LogisticRegression\n",
        "from sklearn.svm import SVC\n",
        "from sklearn.naive_bayes import GaussianNB\n",
        "from sklearn.linear_model import SGDClassifier\n",
        "\n",
        "df = pd.read_csv('titanic.csv')\n",
        "titanic_df=df[['Survived','Pclass','Sex','Age','Fare']]\n",
        "titanic_df.count()\n",
        "#titanic_df['Sex'] = titanic_df['Sex'].map({'male': 1, 'female': 0})\n",
        "\n"
      ]
    },
    {
      "cell_type": "code",
      "source": [
        "\n",
        "##for col_name in titanic_df.columns:\n",
        "##  print(col_name, titanic_df[col_name].nunique())"
      ],
      "metadata": {
        "id": "wUrneV9KjGtT"
      },
      "execution_count": 162,
      "outputs": []
    },
    {
      "cell_type": "code",
      "source": [
        "################################### Exploratory Data Analysis, Clensing & transforming of Titanic Data ##################################\n",
        "# 1. Identify any null values  - We see there are 177 rows with null age values\n",
        "titanic_df.isnull().sum()\n",
        "\n",
        "# 2. Remove the null rows from the data\n",
        "titanic_df = titanic_df.dropna(how='any',axis=0)\n",
        "\n",
        "#. 3. Removing the Zero Values from the Fare Column, we observed that there are 15 rows with 0 Fares.\n",
        "  # Drop rows with Fare values of 0\n",
        "titanic_df = titanic_df[titanic_df['Fare'] > 0]\n",
        "\n",
        "# 3. Tranforming Sex Label column into encoding. - We conclude that data do not correlate\n",
        "  # Initialize LabelEncoder\n",
        "label_encoder = LabelEncoder()\n",
        "  # Fit label encoder and transform gender column\n",
        "titanic_df['Sex'] = label_encoder.fit_transform(titanic_df['Sex'])\n",
        "\n",
        "# 4. Evaluating the correlation between the data sets. - The features do not correlate\n",
        "corrValue=titanic_df.corr()\n",
        "sns.heatmap(corrValue, cmap='coolwarm')\n",
        "\n",
        "\n",
        "# 5. Identifying Unique values for columns. We found out that Pclass, Survived, Sex have unique values\n",
        "for col_name in titanic_df.columns:\n",
        "  print(col_name, titanic_df[col_name].nunique())\n",
        "\n",
        "#6. Analyze data balance survival vs non-survival data count - We see there is 290 Passengers survived & 424 have not survied.\n",
        "# We plan to balance our data set using class weight param set while training\n",
        "\n",
        "titanic_df['Survived'].value_counts()\n",
        "#sns.countplot(titanic_df['Survived'])"
      ],
      "metadata": {
        "colab": {
          "base_uri": "https://localhost:8080/",
          "height": 591
        },
        "id": "E86_5UiCgrhf",
        "outputId": "ee8374c7-1b1e-4e6a-ae98-acf134510d17"
      },
      "execution_count": 163,
      "outputs": [
        {
          "output_type": "stream",
          "name": "stdout",
          "text": [
            "Survived 2\n",
            "Pclass 3\n",
            "Sex 2\n",
            "Age 88\n",
            "Fare 219\n"
          ]
        },
        {
          "output_type": "execute_result",
          "data": {
            "text/plain": [
              "Survived\n",
              "0    418\n",
              "1    289\n",
              "Name: count, dtype: int64"
            ]
          },
          "metadata": {},
          "execution_count": 163
        },
        {
          "output_type": "display_data",
          "data": {
            "text/plain": [
              "<Figure size 640x480 with 2 Axes>"
            ],
            "image/png": "[encoded data removed]"
          },
          "metadata": {}
        }
      ]
    },
    {
      "cell_type": "code",
      "source": [
        "##################################Train, Test & Predicting the data ####################################################################\n",
        "x=titanic_df.drop('Survived',axis=1)\n",
        "y=titanic_df['Survived']\n",
        "xtrain, xtest, ytrain, ytest = train_test_split(x, y, test_size=0.3, random_state=42)\n",
        "\n",
        "model = LogisticRegression()\n",
        "model.fit(xtrain, ytrain) # training the model\n",
        "p = model.predict(xtest) # get the predictions\n",
        "\n",
        "\n",
        "accscore = accuracy_score(p, ytest) #  matching the predicitions against values we already know\n",
        "print('The accuracy score is = ' + str(accscore * 100) + ' %')\n",
        "f1 = f1_score(p, ytest)\n",
        "print('The F1 score is = ' + str(f1 * 100) + ' %')\n",
        "p_score =precision_score(p, ytest)\n",
        "print('The precision score is = ' + str(p_score * 100) + ' %')\n",
        "r_rcore = recall_score(p, ytest)\n",
        "print('The recall score is = ' + str(r_rcore * 100) + ' %')"
      ],
      "metadata": {
        "colab": {
          "base_uri": "https://localhost:8080/"
        },
        "id": "wtTyhTHCtqFh",
        "outputId": "abc46546-6634-45ae-960f-f8c1658ff9f4"
      },
      "execution_count": 164,
      "outputs": [
        {
          "output_type": "stream",
          "name": "stdout",
          "text": [
            "The accuracy score is = 82.62910798122066 %\n",
            "The F1 score is = 77.01863354037268 %\n",
            "The precision score is = 77.5 %\n",
            "The recall score is = 76.5432098765432 %\n"
          ]
        }
      ]
    },
    {
      "cell_type": "code",
      "source": [
        "################################## Evaluating all other Models ####################################################################\n",
        "mymodels = {\n",
        "    'DecisionTreeDefault': DecisionTreeClassifier(),\n",
        "    'DecisionTree200' : DecisionTreeClassifier(max_depth=200),\n",
        "    'DecisionTree100' : DecisionTreeClassifier(max_depth=100),\n",
        "    'RandomForestDefault': RandomForestClassifier(),\n",
        "    'RF-200' : RandomForestClassifier(n_estimators=200),\n",
        "    'RF-100' : RandomForestClassifier(n_estimators=100),\n",
        "    'RF-500' : RandomForestClassifier(n_estimators=500),\n",
        "    'KNN-5' : KNeighborsClassifier(n_neighbors=5),\n",
        "    'KNN-10' : KNeighborsClassifier(n_neighbors=10),\n",
        "    'KNN-15' : KNeighborsClassifier(n_neighbors=15),\n",
        "    'Logistic Regression' : LogisticRegression(),\n",
        "    'SVM' : SVC(),\n",
        "    'Naive Bayes' : GaussianNB(),\n",
        "    'SGD' : SGDClassifier()\n",
        "}\n",
        "\n",
        "best_algo_acc = { 'No Algo': None}\n",
        "best_acc = 0.0\n",
        "best_algo_precision = { 'No Algo': None}\n",
        "best_precision = 0.0\n",
        "best_algo_recall = { 'No Algo': None}\n",
        "best_recall = 0.0\n",
        "best_algo_f1score = { 'No Algo': None}\n",
        "best_f1_score = 0.0\n",
        "\n",
        "for algoname, algo in mymodels.items():\n",
        "  algo.fit(xtrain, ytrain)\n",
        "  p = algo.predict(xtest)\n",
        "  accscore = accuracy_score(p, ytest)\n",
        "  if accscore > best_acc and accscore != 1.0:\n",
        "    best_acc = accscore\n",
        "    best_algo_acc = { algoname : algo}\n",
        "  prec = precision_score(p, ytest)\n",
        "  if prec > best_precision and prec != 1.0:\n",
        "    best_precision = prec\n",
        "    best_algo_precision = { algoname : algo}\n",
        "  rec = recall_score(p, ytest)\n",
        "  if rec > best_recall and rec != 1.0:\n",
        "    best_recall = rec\n",
        "    best_algo_recall = { algoname : algo}\n",
        "  f1 = f1_score(p, ytest)\n",
        "  if f1 > best_f1_score and f1 != 1.0:\n",
        "    best_f1_score = f1\n",
        "    best_algo_f1score = { algoname : algo}\n",
        "\n",
        "print(\"Best Algo Accuracy\", best_algo_acc,\"-->\", best_acc.round(2),\"\\n\")\n",
        "print(\"Best Algo Precision\",best_algo_precision, \"-->\",best_precision.round(2),\"\\n\")\n",
        "print(\"Best_algo_Recall\",best_algo_recall, \"-->\",best_recall.round(2),\"\\n\")\n",
        "print(\"Best_Algo_f1score\",best_algo_f1score, \"-->\",best_f1_score.round(2),\"\\n\")\n"
      ],
      "metadata": {
        "colab": {
          "base_uri": "https://localhost:8080/"
        },
        "id": "2e5cdm9Hw6Zh",
        "outputId": "5618f6db-7bbe-4855-cc7d-7192c42bcaa9"
      },
      "execution_count": 165,
      "outputs": [
        {
          "output_type": "stream",
          "name": "stdout",
          "text": [
            "Best Algo Accuracy {'Logistic Regression': LogisticRegression()} --> 0.83 \n",
            "\n",
            "Best Algo Precision {'SGD': SGDClassifier()} --> 0.88 \n",
            "\n",
            "Best_algo_Recall {'RF-500': RandomForestClassifier(n_estimators=500)} --> 0.78 \n",
            "\n",
            "Best_Algo_f1score {'Logistic Regression': LogisticRegression()} --> 0.77 \n",
            "\n"
          ]
        }
      ]
    },
    {
      "cell_type": "markdown",
      "source": [],
      "metadata": {
        "id": "SyiD4kMHGNtK"
      }
    },
    {
      "cell_type": "code",
      "source": [],
      "metadata": {
        "id": "JALxrAz9F57m"
      },
      "execution_count": 165,
      "outputs": []
    },
    {
      "cell_type": "markdown",
      "source": [
        "#########################################Conclusion #################################\n",
        "**bold text**\n",
        "We conclude that best classification model for Titatanic data analysis is -->Logistic Regression considering its F1 Score\n",
        "\n",
        "################################################################################"
      ],
      "metadata": {
        "id": "sAP2fJQTF6fv"
      }
    },
    {
      "cell_type": "code",
      "source": [
        "model_weighted=LogisticRegression(class_weight={0:0.7,1:1})\n",
        "model_weighted.fit(xtrain, ytrain) # training the model\n",
        "p = model_weighted.predict(xtest) # get the predictions\n",
        "\n",
        "\n",
        "accscore = accuracy_score(p, ytest) #  matching the predicitions against values we already know\n",
        "print('The accuracy score is = ' + str(accscore * 100) + ' %')\n",
        "f1 = f1_score(p, ytest)\n",
        "print('The F1 score is = ' + str(f1 * 100) + ' %')\n",
        "p_score =precision_score(p, ytest)\n",
        "print('The precision score is = ' + str(p_score * 100) + ' %')\n",
        "r_rcore = recall_score(p, ytest)\n",
        "print('The recall score is = ' + str(r_rcore * 100) + ' %')\n",
        "\n",
        "mymodels = {\n",
        "    'DecisionTreeDefault': DecisionTreeClassifier(),\n",
        "    'DecisionTree200' : DecisionTreeClassifier(max_depth=200),\n",
        "    'DecisionTree100' : DecisionTreeClassifier(max_depth=100),\n",
        "    'RandomForestDefault': RandomForestClassifier(),\n",
        "    'RF-200' : RandomForestClassifier(n_estimators=200),\n",
        "    'RF-100' : RandomForestClassifier(n_estimators=100),\n",
        "    'RF-500' : RandomForestClassifier(n_estimators=500),\n",
        "    'KNN-5' : KNeighborsClassifier(n_neighbors=5),\n",
        "    'KNN-10' : KNeighborsClassifier(n_neighbors=10),\n",
        "    'KNN-15' : KNeighborsClassifier(n_neighbors=15),\n",
        "    'Logistic Regression' : LogisticRegression(class_weight={0:0.5,1:1}),\n",
        "    'SVM' : SVC(),\n",
        "    'Naive Bayes' : GaussianNB(),\n",
        "    'SGD' : SGDClassifier()\n",
        "}\n",
        "\n",
        "best_algo_acc = { 'No Algo': None}\n",
        "best_acc = 0.0\n",
        "best_algo_precision = { 'No Algo': None}\n",
        "best_precision = 0.0\n",
        "best_algo_recall = { 'No Algo': None}\n",
        "best_recall = 0.0\n",
        "best_algo_f1score = { 'No Algo': None}\n",
        "best_f1_score = 0.0\n",
        "\n",
        "for algoname, algo in mymodels.items():\n",
        "  algo.fit(xtrain, ytrain)\n",
        "  p = algo.predict(xtest)\n",
        "  accscore = accuracy_score(p, ytest)\n",
        "  if accscore > best_acc and accscore != 1.0:\n",
        "    best_acc = accscore\n",
        "    best_algo_acc = { algoname : algo}\n",
        "  prec = precision_score(p, ytest)\n",
        "  if prec > best_precision and prec != 1.0:\n",
        "    best_precision = prec\n",
        "    best_algo_precision = { algoname : algo}\n",
        "  rec = recall_score(p, ytest)\n",
        "  if rec > best_recall and rec != 1.0:\n",
        "    best_recall = rec\n",
        "    best_algo_recall = { algoname : algo}\n",
        "  f1 = f1_score(p, ytest)\n",
        "  if f1 > best_f1_score and f1 != 1.0:\n",
        "    best_f1_score = f1\n",
        "    best_algo_f1score = { algoname : algo}\n",
        "\n",
        "print(\"Best Algo Accuracy\", best_algo_acc,\"-->\", best_acc.round(2),\"\\n\")\n",
        "print(\"Best Algo Precision\",best_algo_precision, \"-->\",best_precision.round(2),\"\\n\")\n",
        "print(\"Best_algo_Recall\",best_algo_recall, \"-->\",best_recall.round(2),\"\\n\")\n",
        "print(\"Best_Algo_f1score\",best_algo_f1score, \"-->\",best_f1_score.round(2),\"\\n\")\n"
      ],
      "metadata": {
        "colab": {
          "base_uri": "https://localhost:8080/"
        },
        "id": "mxO1Be_QIWS8",
        "outputId": "ec5b2d0e-ff40-4166-c0f9-8c9931fc9b43"
      },
      "execution_count": 166,
      "outputs": [
        {
          "output_type": "stream",
          "name": "stdout",
          "text": [
            "The accuracy score is = 81.2206572769953 %\n",
            "The F1 score is = 77.01149425287356 %\n",
            "The precision score is = 83.75 %\n",
            "The recall score is = 71.27659574468085 %\n",
            "Best Algo Accuracy {'RF-100': RandomForestClassifier()} --> 0.84 \n",
            "\n",
            "Best Algo Precision {'Logistic Regression': LogisticRegression(class_weight={0: 0.5, 1: 1})} --> 0.84 \n",
            "\n",
            "Best_algo_Recall {'RF-100': RandomForestClassifier()} --> 0.81 \n",
            "\n",
            "Best_Algo_f1score {'RF-100': RandomForestClassifier()} --> 0.77 \n",
            "\n"
          ]
        },
        {
          "output_type": "stream",
          "name": "stderr",
          "text": [
            "/usr/local/lib/python3.10/dist-packages/sklearn/metrics/_classification.py:1344: UndefinedMetricWarning: Recall is ill-defined and being set to 0.0 due to no true samples. Use `zero_division` parameter to control this behavior.\n",
            "  _warn_prf(average, modifier, msg_start, len(result))\n"
          ]
        }
      ]
    },
    {
      "cell_type": "code",
      "source": [
        "#########Trying out Evaluation after normalization, just to see if normalization works####\n",
        "xtrain, xtest, ytrain, ytest = train_test_split(x, y, test_size=0.3, random_state=42)\n",
        "\n",
        "mu = xtrain.describe().T['mean']\n",
        "sigma = xtrain.describe().T['std']\n",
        "\n",
        "xtrain_norm = (xtrain-mu)/sigma\n",
        "xtest_norm = (xtest - mu)/sigma\n",
        "\n",
        "model_norm = LogisticRegression()\n",
        "model_norm.fit(xtrain_norm, ytrain) # training the model\n",
        "p = model_norm.predict(xtest_norm) # get the predictions\n",
        "\n",
        "accscore = accuracy_score(p, ytest) #  matching the predicitions against values we already know\n",
        "print('The accuracy score is = ' + str(accscore * 100) + ' %')\n",
        "f1 = f1_score(p, ytest)\n",
        "print('The F1 score is = ' + str(f1 * 100) + ' %')\n",
        "p_score =precision_score(p, ytest)\n",
        "print('The precision score is = ' + str(p_score * 100) + ' %')\n",
        "r_rcore = recall_score(p, ytest)\n",
        "print('The recall score is = ' + str(r_rcore * 100) + ' %')"
      ],
      "metadata": {
        "colab": {
          "base_uri": "https://localhost:8080/"
        },
        "id": "Qu_NE9xRIaLt",
        "outputId": "1dac6670-7464-42a4-c071-1196e41ab2a9"
      },
      "execution_count": 167,
      "outputs": [
        {
          "output_type": "stream",
          "name": "stdout",
          "text": [
            "The accuracy score is = 82.62910798122066 %\n",
            "The F1 score is = 77.01863354037268 %\n",
            "The precision score is = 77.5 %\n",
            "The recall score is = 76.5432098765432 %\n"
          ]
        }
      ]
    }
  ]
}